{
 "cells": [
  {
   "cell_type": "code",
   "execution_count": null,
   "metadata": {},
   "outputs": [],
   "source": [
    "# Program to multiply two matrices using for loops\n"
   ]
  },
  {
   "cell_type": "code",
   "execution_count": null,
   "metadata": {},
   "outputs": [],
   "source": [
    "\n",
    "    "
   ]
  },
  {
   "cell_type": "code",
   "execution_count": null,
   "metadata": {},
   "outputs": [],
   "source": []
  },
  {
   "cell_type": "markdown",
   "metadata": {},
   "source": []
  },
  {
   "cell_type": "code",
   "execution_count": 7,
   "metadata": {},
   "outputs": [
    {
     "name": "stdout",
     "output_type": "stream",
     "text": [
      "Enter the number of rows  in A matrix2\n",
      "enter cols3\n",
      "[[0, 0, 0], [0, 0, 0]]\n",
      "1\n",
      "2\n",
      "3\n",
      "4\n",
      "5\n",
      "6\n",
      "[[1, 2, 3], [4, 5, 6]]\n",
      "\n",
      "\n",
      "Enter the number of rows  in B matrix3\n",
      "enter cols2\n",
      "[[0, 0], [0, 0], [0, 0]]\n",
      "0 0\n",
      "1\n",
      "0 1\n",
      "2\n",
      "1 0\n",
      "3\n",
      "1 1\n",
      "4\n",
      "2 0\n",
      "5\n",
      "2 1\n",
      "6\n",
      "[[1, 2], [3, 4], [5, 6]]\n",
      "\n",
      "\n",
      "possible\n",
      "[[0, 0], [0, 0]]\n",
      "[[22, 28], [49, 64]]\n"
     ]
    }
   ],
   "source": [
    "import sys\n",
    "\n",
    "# no of rows are equal to the number of columns.\n",
    "m = int(input(\"Enter the number of rows  in A matrix\"))\n",
    "n = int(input('enter cols'))\n",
    "a = [[0*n for i in range(n)]for j in range(m)]\n",
    "print(a)\n",
    "for i in range (m):\n",
    "    for j in range(n):\n",
    "        a[i][j]=int(input())\n",
    "print (a)\n",
    "print(\"\\n\")\n",
    "\n",
    "# no of rows are equal to the number of columns.\n",
    "g= int(input(\"Enter the number of rows  in B matrix\"))\n",
    "h = int(input('enter cols'))\n",
    "b = [[0*h for i in range(h)]for j in range(g)]\n",
    "print(b)\n",
    "for i in range (g):\n",
    "    for j in range(h):\n",
    "        print(i,j)\n",
    "        b[i][j]=int(input())\n",
    "print (b)\n",
    "print(\"\\n\")\n",
    "\n",
    "if n != g:\n",
    "    print('matrix multiplication not possible')\n",
    "else:\n",
    "    print('possible')\n",
    "    resultrow = m\n",
    "    resultcol = h\n",
    "    result = [[0*h for i in range(h)]for j in range(m)]\n",
    "    print(result)\n",
    "    for i in range(m):\n",
    "        for j in range(h):\n",
    "            for k in range(n):\n",
    "                result[i][j] += a[i][k]*b[k][j]\n",
    "print(result)\n",
    "\n",
    "\n"
   ]
  },
  {
   "cell_type": "markdown",
   "metadata": {},
   "source": [
    "## "
   ]
  },
  {
   "cell_type": "code",
   "execution_count": null,
   "metadata": {},
   "outputs": [],
   "source": []
  }
 ],
 "metadata": {
  "kernelspec": {
   "display_name": "Python 3",
   "language": "python",
   "name": "python3"
  },
  "language_info": {
   "codemirror_mode": {
    "name": "ipython",
    "version": 3
   },
   "file_extension": ".py",
   "mimetype": "text/x-python",
   "name": "python",
   "nbconvert_exporter": "python",
   "pygments_lexer": "ipython3",
   "version": "3.7.4"
  }
 },
 "nbformat": 4,
 "nbformat_minor": 2
}
